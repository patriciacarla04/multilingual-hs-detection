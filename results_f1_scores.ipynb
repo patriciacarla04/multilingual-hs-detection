{
 "cells": [
  {
   "cell_type": "markdown",
   "metadata": {},
   "source": [
    "## Evaluation results in terms of F1 score ##"
   ]
  },
  {
   "cell_type": "code",
   "execution_count": 2,
   "metadata": {},
   "outputs": [],
   "source": [
    "import pickle"
   ]
  },
  {
   "cell_type": "markdown",
   "metadata": {},
   "source": [
    "### Multilingual Models"
   ]
  },
  {
   "cell_type": "code",
   "execution_count": 7,
   "metadata": {},
   "outputs": [
    {
     "name": "stdout",
     "output_type": "stream",
     "text": [
      "Duplicte All Model\n",
      "\n",
      "English Dataset:\n",
      "{'confusion_matrix': array([[12647,    67,  3164,    56],\n",
      "       [   35,    75,    71,     2],\n",
      "       [  746,    58,  4442,    64],\n",
      "       [   13,     0,    31,    32]]), 'accuracy': 0.7997023671115658, 'micro_f1_score': 0.7997023671115658, 'macro_f1_score': 0.5533544543713533, 'weighted_f1_score': 0.8109054698297378, 'f1_scores': {'0_appropriate': 0.8610723404255319, '1_inappropriate': 0.391644908616188, '2_offensive': 0.6824396988784759, '3_violent': 0.2782608695652174}, 'recall_3_violent': 0.42105263157894735}\n",
      "\n",
      "Italian Dataset:\n",
      "{'confusion_matrix': array([[14122,   227,  1464,   143],\n",
      "       [   74,   510,   174,    12],\n",
      "       [ 1253,   232,  2499,    98],\n",
      "       [   56,     6,    52,   150]]), 'accuracy': 0.8200930144267274, 'micro_f1_score': 0.8200930144267274, 'macro_f1_score': 0.6340821909451266, 'weighted_f1_score': 0.8238391906628205, 'f1_scores': {'0_appropriate': 0.8977464161978322, '1_inappropriate': 0.5845272206303725, '2_offensive': 0.6042800145085238, '3_violent': 0.4497751124437781}, 'recall_3_violent': 0.5681818181818182}\n",
      "\n",
      "Slovenian Dataset:\n",
      "{'confusion_matrix': array([[10855,    90,  2321,     7],\n",
      "       [   61,   135,    88,     1],\n",
      "       [ 1547,    82,  4715,    29],\n",
      "       [   15,     5,    34,    15]]), 'accuracy': 0.786, 'micro_f1_score': 0.786, 'macro_f1_score': 0.5600468585178943, 'weighted_f1_score': 0.788879172932676, 'f1_scores': {'0_appropriate': 0.8430740553764902, '1_inappropriate': 0.4522613065326634, '2_offensive': 0.6969181878649028, '3_violent': 0.24793388429752064}, 'recall_3_violent': 0.21739130434782608}\n"
     ]
    }
   ],
   "source": [
    "#Duplicate All Model\n",
    "\n",
    "print(\"Duplicate All Model\")\n",
    "print()\n",
    "results_DA_EN = pickle.load(open(\"mutilingual_f1_scores/results_duplicate_all/metrics_xlmr_en.pkl\", \"rb\"))\n",
    "print(\"English Dataset:\")\n",
    "print(results_DA_EN)\n",
    "print()\n",
    "print(\"Italian Dataset:\")\n",
    "results_DA_IT = pickle.load(open(\"mutilingual_f1_scores/results_duplicate_all/metrics_xlmr_it.pkl\", \"rb\"))\n",
    "print(results_DA_IT)\n",
    "print()\n",
    "print(\"Slovenian Dataset:\")\n",
    "results_DA_SL = pickle.load(open(\"mutilingual_f1_scores/results_duplicate_all/metrics_xlmr_slo.pkl\", \"rb\"))\n",
    "print(results_DA_SL)\n"
   ]
  },
  {
   "cell_type": "code",
   "execution_count": 9,
   "metadata": {},
   "outputs": [
    {
     "name": "stdout",
     "output_type": "stream",
     "text": [
      "Duplicate Disagreement Model\n",
      "\n",
      "English Dataset:\n",
      "{'confusion_matrix': array([[11850,   104,  3865,   115],\n",
      "       [   33,    89,    60,     1],\n",
      "       [  611,   145,  4467,    87],\n",
      "       [   11,     0,    26,    39]]), 'accuracy': 0.7647770078593684, 'micro_f1_score': 0.7647770078593683, 'macro_f1_score': 0.5177707599391697, 'avg_f1_score': 0.7820137315272909, 'f1_scores': {'0_appropriate': 0.8333626358170119, '1_inappropriate': 0.3416506717850288, '2_offensive': 0.6507867132867132, '3_violent': 0.2452830188679245}, 'recall_3_violent': 0.5131578947368421}\n",
      "\n",
      "Italian Dataset:\n",
      "{'confusion_matrix': array([[13813,   264,  1643,   236],\n",
      "       [   75,   545,   131,    19],\n",
      "       [ 1164,   360,  2430,   128],\n",
      "       [   49,     6,    48,   161]]), 'accuracy': 0.804337509491268, 'micro_f1_score': 0.804337509491268, 'macro_f1_score': 0.6079013052652882, 'avg_f1_score': 0.8119983312978866, 'f1_scores': {'0_appropriate': 0.889525710789838, '1_inappropriate': 0.5604113110539846, '2_offensive': 0.5831533477321814, '3_violent': 0.39851485148514854}, 'recall_3_violent': 0.6098484848484849}\n",
      "\n",
      "Slovenian Dataset:\n",
      "{'confusion_matrix': array([[10251,   131,  2872,    19],\n",
      "       [   57,   156,    71,     1],\n",
      "       [ 1310,   139,  4880,    44],\n",
      "       [   10,     8,    33,    18]]), 'accuracy': 0.76525, 'micro_f1_score': 0.76525, 'macro_f1_score': 0.545402540285124, 'weighted_f1_score': 0.7719853804988807, 'f1_scores': {'0_appropriate': 0.8233404280952572, '1_inappropriate': 0.4339360222531293, '2_offensive': 0.6859231147656195, '3_violent': 0.23841059602649006}, 'recall_3_violent': 0.2608695652173913}\n"
     ]
    }
   ],
   "source": [
    "#Duplicate Disagreement Model\n",
    "\n",
    "print(\"Duplicate Disagreement Model\")\n",
    "print()\n",
    "results_DD_EN = pickle.load(open(\"mutilingual_f1_scores/results_duplicate_disagreement/metrics_xlmr_en.pkl\", \"rb\"))\n",
    "print(\"English Dataset:\")\n",
    "print(results_DD_EN)\n",
    "print()\n",
    "print(\"Italian Dataset:\")\n",
    "results_DD_IT = pickle.load(open(\"mutilingual_f1_scores/results_duplicate_disagreement/metrics_xlmr_it.pkl\", \"rb\"))\n",
    "print(results_DD_IT)\n",
    "print()\n",
    "print(\"Slovenian Dataset:\")\n",
    "results_DD_SL = pickle.load(open(\"mutilingual_f1_scores/results_duplicate_disagreement/metrics_xlmr_slo.pkl\", \"rb\"))\n",
    "print(results_DD_SL)\n"
   ]
  },
  {
   "cell_type": "code",
   "execution_count": 10,
   "metadata": {},
   "outputs": [
    {
     "name": "stdout",
     "output_type": "stream",
     "text": [
      "Remove Disagreement Model\n",
      "\n",
      "English Dataset:\n",
      "{'confusion_matrix': array([[13151,    35,  2697,    51],\n",
      "       [   48,    45,    88,     2],\n",
      "       [  931,    38,  4280,    61],\n",
      "       [   19,     0,    27,    30]]), 'accuracy': 0.814118960145096, 'micro_f1_score': 0.814118960145096, 'macro_f1_score': 0.5340640620177057, 'weighted_f1_score': 0.8218291517722389, 'f1_scores': {'0_appropriate': 0.8743143968354219, '1_inappropriate': 0.29900332225913623, '2_offensive': 0.6902112562489922, '3_violent': 0.2727272727272727}, 'recall_3_violent': 0.39473684210526316}\n",
      "\n",
      "Italian Dataset:\n",
      "{'confusion_matrix': array([[14591,   223,   989,   153],\n",
      "       [  100,   449,   203,    18],\n",
      "       [ 1556,   171,  2258,    97],\n",
      "       [   71,     6,    59,   128]]), 'accuracy': 0.8269741837509491, 'micro_f1_score': 0.8269741837509491, 'macro_f1_score': 0.6104131296992107, 'weighted_f1_score': 0.8250415052618897, 'f1_scores': {'0_appropriate': 0.9041953275082109, '1_inappropriate': 0.5546633724521309, '2_offensive': 0.594915030957713, '3_violent': 0.3878787878787879}, 'recall_3_violent': 0.48484848484848486}\n",
      "\n",
      "Slovenian Dataset:\n",
      "{'confusion_matrix': array([[11297,    85,  1877,    14],\n",
      "       [   86,   106,    92,     1],\n",
      "       [ 1911,    71,  4356,    35],\n",
      "       [   18,     4,    37,    10]]), 'accuracy': 0.78845, 'micro_f1_score': 0.78845, 'macro_f1_score': 0.5184426102890219, 'weighted_f1_score': 0.7880271387432545, 'f1_scores': {'0_appropriate': 0.8498777506112469, '1_inappropriate': 0.3847549909255898, '2_offensive': 0.6840989399293286, '3_violent': 0.15503875968992248}, 'recall_3_violent': 0.14492753623188406}\n"
     ]
    }
   ],
   "source": [
    "#Remove Disagreement Model\n",
    "\n",
    "print(\"Remove Disagreement Model\")\n",
    "print()\n",
    "results_RD_EN = pickle.load(open(\"mutilingual_f1_scores/results_remove_disagreement/metrics_xlmr_en.pkl\", \"rb\"))\n",
    "print(\"English Dataset:\")\n",
    "print(results_RD_EN)\n",
    "print()\n",
    "print(\"Italian Dataset:\")\n",
    "results_RD_IT = pickle.load(open(\"mutilingual_f1_scores/results_remove_disagreement/metrics_xlmr_it.pkl\", \"rb\"))\n",
    "print(results_RD_IT)\n",
    "print()\n",
    "print(\"Slovenian Dataset:\")\n",
    "results_RD_SL = pickle.load(open(\"mutilingual_f1_scores/results_remove_disagreement/metrics_xlmr_slo.pkl\", \"rb\"))\n",
    "print(results_RD_SL)"
   ]
  },
  {
   "cell_type": "code",
   "execution_count": 11,
   "metadata": {},
   "outputs": [
    {
     "name": "stdout",
     "output_type": "stream",
     "text": [
      "Duplicate All (No-Reweighting) Model\n",
      "\n",
      "English Dataset:\n",
      "{'confusion_matrix': array([[13650,    45,  2203,    36],\n",
      "       [   45,    59,    77,     2],\n",
      "       [ 1090,    34,  4144,    42],\n",
      "       [   19,     0,    33,    24]]), 'accuracy': 0.8313723666465145, 'micro_f1_score': 0.8313723666465145, 'macro_f1_score': 0.5566905099252667, 'weighted_f1_score': 0.8361346214839891, 'f1_scores': {'0_appropriate': 0.8881514737458519, '1_inappropriate': 0.36760124610591904, '2_offensive': 0.7043426531826295, '3_violent': 0.26666666666666666}, 'recall_3_violent': 0.3157894736842105}\n",
      "\n",
      "Italian Dataset:\n",
      "{'confusion_matrix': array([[14814,   148,   901,    93],\n",
      "       [  104,   421,   232,    13],\n",
      "       [ 1616,   140,  2262,    64],\n",
      "       [   77,     6,    58,   123]]), 'accuracy': 0.8361807137433561, 'micro_f1_score': 0.8361807137433561, 'macro_f1_score': 0.6297021220790595, 'weighted_f1_score': 0.8314383545164766, 'f1_scores': {'0_appropriate': 0.9097552737433598, '1_inappropriate': 0.567003367003367, '2_offensive': 0.6003981420039813, '3_violent': 0.44165170556552963}, 'recall_3_violent': 0.4659090909090909}\n",
      "\n",
      "Slovenian Dataset:\n",
      "{'confusion_matrix': array([[11834,    42,  1393,     4],\n",
      "       [   93,   101,    91,     0],\n",
      "       [ 2308,    29,  4020,    16],\n",
      "       [   19,     2,    34,    14]]), 'accuracy': 0.79845, 'micro_f1_score': 0.79845, 'macro_f1_score': 0.5616871177166318, 'weighted_f1_score': 0.7929130130761018, 'f1_scores': {'0_appropriate': 0.859810368002325, '1_inappropriate': 0.44008714596949894, '2_offensive': 0.6750062967005289, '3_violent': 0.27184466019417475}, 'recall_3_violent': 0.2028985507246377}\n"
     ]
    }
   ],
   "source": [
    "#Duplicate All (No-Reweighting) Model\n",
    "\n",
    "print(\"Duplicate All (No-Reweighting) Model\")\n",
    "print()\n",
    "results_NR_EN = pickle.load(open(\"mutilingual_f1_scores/results_duplicate_all_no_weights/metrics_xlmr_en.pkl\", \"rb\"))\n",
    "print(\"English Dataset:\")\n",
    "print(results_NR_EN)\n",
    "print()\n",
    "print(\"Italian Dataset:\")\n",
    "results_NR_IT = pickle.load(open(\"mutilingual_f1_scores/results_duplicate_all_no_weights/metrics_xlmr_it.pkl\", \"rb\"))\n",
    "print(results_NR_IT)\n",
    "print()\n",
    "print(\"Slovenian Dataset:\")\n",
    "results_NR_SL = pickle.load(open(\"mutilingual_f1_scores/results_duplicate_all_no_weights/metrics_xlmr_slo.pkl\", \"rb\"))\n",
    "print(results_NR_SL)"
   ]
  },
  {
   "cell_type": "markdown",
   "metadata": {},
   "source": [
    "### Monolingual Models"
   ]
  },
  {
   "cell_type": "code",
   "execution_count": 6,
   "metadata": {},
   "outputs": [
    {
     "name": "stdout",
     "output_type": "stream",
     "text": [
      "English Model\n",
      "\n",
      "English Dataset:\n",
      "Class F1 Scores: [0.89380308 0.28956229 0.6836174  0.24175824]\n",
      "weighted F1 Score: 0.8344524125852057\n",
      "\n",
      "Italian Dataset:\n",
      "Class F1 Scores: [0.86279121 0.01282051 0.10565871 0.        ]\n",
      "weighted F1 Score: 0.6742533757860605\n",
      "\n",
      "Slovenian Dataset:\n",
      "Class F1 Scores: [0.79930013 0.03986711 0.02345317 0.        ]\n",
      "weighted F1 Score: 0.5384969902768454\n"
     ]
    }
   ],
   "source": [
    "#English Model\n",
    "\n",
    "print(\"English Model\")\n",
    "print()\n",
    "results_EN_EN = pickle.load(open(\"monolingual_f1_scores/monolingual_en/results_mono_en_on_en.pkl\", \"rb\"))\n",
    "print(\"English Dataset:\")\n",
    "print(\"Class F1 Scores:\", results_EN_EN['class_f1_scores'])\n",
    "print(\"weighted F1 Score:\", results_EN_EN['weighted_f1_score'])\n",
    "print()\n",
    "print(\"Italian Dataset:\")\n",
    "results_EN_IT = pickle.load(open(\"monolingual_f1_scores/monolingual_en/results_mono_en_on_it.pkl\", \"rb\"))\n",
    "print(\"Class F1 Scores:\", results_EN_IT['class_f1_scores'])\n",
    "print(\"weighted F1 Score:\", results_EN_IT['weighted_f1_score'])\n",
    "print()\n",
    "print(\"Slovenian Dataset:\")\n",
    "results_EN_SL = pickle.load(open(\"monolingual_f1_scores/monolingual_en/results_mono_en_on_slo.pkl\", \"rb\"))\n",
    "print(\"Class F1 Scores:\", results_EN_SL['class_f1_scores'])\n",
    "print(\"weighted F1 Score:\", results_EN_SL['weighted_f1_score'])"
   ]
  },
  {
   "cell_type": "code",
   "execution_count": 7,
   "metadata": {},
   "outputs": [
    {
     "name": "stdout",
     "output_type": "stream",
     "text": [
      "Italian Model\n",
      "\n",
      "English Dataset:\n",
      "Class F1 Scores: [0.8525811  0.13818182 0.00413068 0.        ]\n",
      "weighted F1 Score: 0.6339696079460388\n",
      "\n",
      "Italian Dataset:\n",
      "Class F1 Scores: [0.91326716 0.5846363  0.59025548 0.40343348]\n",
      "weighted F1 Score: 0.8322983127247228\n",
      "\n",
      "Slovenian Dataset:\n",
      "Class F1 Scores: [0.7984942  0.03389831 0.01243974 0.        ]\n",
      "weighted F1 Score: 0.5343676531957944\n"
     ]
    }
   ],
   "source": [
    "#Italian Model\n",
    "\n",
    "print(\"Italian Model\")\n",
    "print()\n",
    "results_IT_EN = pickle.load(open(\"monolingual_f1_scores/monolingual_it/results_mono_it_on_en.pkl\", \"rb\"))\n",
    "print(\"English Dataset:\")\n",
    "print(\"Class F1 Scores:\", results_IT_EN['class_f1_scores'])\n",
    "print(\"weighted F1 Score:\", results_IT_EN['weighted_f1_score'])\n",
    "print()\n",
    "print(\"Italian Dataset:\")\n",
    "results_IT_IT = pickle.load(open(\"monolingual_f1_scores/monolingual_it/results_mono_it_on_it.pkl\", \"rb\"))\n",
    "print(\"Class F1 Scores:\", results_IT_IT['class_f1_scores'])\n",
    "print(\"weighted F1 Score:\", results_IT_IT['weighted_f1_score'])\n",
    "print()\n",
    "print(\"Slovenian Dataset:\")\n",
    "results_IT_SL = pickle.load(open(\"monolingual_f1_scores/monolingual_it/results_mono_it_on_slo.pkl\", \"rb\"))\n",
    "print(\"Class F1 Scores:\", results_IT_SL['class_f1_scores'])\n",
    "print(\"weighted F1 Score:\", results_IT_SL['weighted_f1_score'])"
   ]
  },
  {
   "cell_type": "code",
   "execution_count": 8,
   "metadata": {},
   "outputs": [
    {
     "name": "stdout",
     "output_type": "stream",
     "text": [
      "Slovenian Model\n",
      "\n",
      "English Dataset:\n",
      "Class F1 Scores: [0.88014405 0.25178147 0.49697885 0.02884615]\n",
      "weighted F1 Score: 0.7771678965604415\n",
      "\n",
      "Italian Dataset:\n",
      "Class F1 Scores: [0.86233259 0.00763359 0.03250478 0.        ]\n",
      "weighted F1 Score: 0.6595454260604191\n",
      "\n",
      "Slovenian Dataset:\n",
      "Class F1 Scores: [0.85702993 0.43694494 0.6526993  0.29126214]\n",
      "weighted F1 Score: 0.783981863828929\n"
     ]
    }
   ],
   "source": [
    "#Slovenian Model\n",
    "\n",
    "print(\"Slovenian Model\")\n",
    "print()\n",
    "results_SL_EN = pickle.load(open(\"monolingual_f1_scores/monolingual_sl/results_mono_slo_on_en.pkl\", \"rb\"))\n",
    "print(\"English Dataset:\")\n",
    "print(\"Class F1 Scores:\", results_SL_EN['class_f1_scores'])\n",
    "print(\"weighted F1 Score:\", results_SL_EN['weighted_f1_score'])\n",
    "print()\n",
    "print(\"Italian Dataset:\")\n",
    "results_SL_IT = pickle.load(open(\"monolingual_f1_scores/monolingual_sl/results_mono_slo_on_it.pkl\", \"rb\"))\n",
    "print(\"Class F1 Scores:\", results_SL_IT['class_f1_scores'])\n",
    "print(\"weighted F1 Score:\", results_SL_IT['weighted_f1_score'])\n",
    "print()\n",
    "print(\"Slovenian Dataset:\")\n",
    "results_SL_SL = pickle.load(open(\"monolingual_f1_scores/monolingual_sl/results_mono_slo_on_slo.pkl\", \"rb\"))\n",
    "print(\"Class F1 Scores:\", results_SL_SL['class_f1_scores'])\n",
    "print(\"weighted F1 Score:\", results_SL_SL['weighted_f1_score'])"
   ]
  }
 ],
 "metadata": {
  "kernelspec": {
   "display_name": "hate",
   "language": "python",
   "name": "python3"
  },
  "language_info": {
   "codemirror_mode": {
    "name": "ipython",
    "version": 3
   },
   "file_extension": ".py",
   "mimetype": "text/x-python",
   "name": "python",
   "nbconvert_exporter": "python",
   "pygments_lexer": "ipython3",
   "version": "3.11.7"
  },
  "orig_nbformat": 4
 },
 "nbformat": 4,
 "nbformat_minor": 2
}
