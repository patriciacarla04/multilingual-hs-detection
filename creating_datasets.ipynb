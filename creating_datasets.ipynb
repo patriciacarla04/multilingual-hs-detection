{
 "cells": [
  {
   "cell_type": "code",
   "execution_count": 1,
   "metadata": {},
   "outputs": [],
   "source": [
    "import pandas as pd"
   ]
  },
  {
   "cell_type": "code",
   "execution_count": 7,
   "metadata": {},
   "outputs": [],
   "source": [
    "df_train_en = pd.read_csv('/Users/patriciagrigor/Desktop/MASTER/CEU_hate/multilingual-hate-speech/data_variations/en/EN_train_duplicate_all.csv')"
   ]
  },
  {
   "cell_type": "code",
   "execution_count": 2,
   "metadata": {},
   "outputs": [],
   "source": [
    "df_test_en = pd.read_csv('/Users/patriciagrigor/Desktop/MASTER/CEU_hate/multilingual-hate-speech/final_models/EN_test.csv')"
   ]
  },
  {
   "cell_type": "code",
   "execution_count": 15,
   "metadata": {},
   "outputs": [
    {
     "data": {
      "text/html": [
       "<div>\n",
       "<style scoped>\n",
       "    .dataframe tbody tr th:only-of-type {\n",
       "        vertical-align: middle;\n",
       "    }\n",
       "\n",
       "    .dataframe tbody tr th {\n",
       "        vertical-align: top;\n",
       "    }\n",
       "\n",
       "    .dataframe thead th {\n",
       "        text-align: right;\n",
       "    }\n",
       "</style>\n",
       "<table border=\"1\" class=\"dataframe\">\n",
       "  <thead>\n",
       "    <tr style=\"text-align: right;\">\n",
       "      <th></th>\n",
       "      <th>Comment_ID</th>\n",
       "      <th>Text</th>\n",
       "      <th>Type</th>\n",
       "      <th>Annotator</th>\n",
       "    </tr>\n",
       "  </thead>\n",
       "  <tbody>\n",
       "    <tr>\n",
       "      <th>0</th>\n",
       "      <td>Ugw-aRHvR13qVkeSjGx4AaABAg</td>\n",
       "      <td>corona virus chaple hill nc lab 2015........ g...</td>\n",
       "      <td>0</td>\n",
       "      <td>PP</td>\n",
       "    </tr>\n",
       "    <tr>\n",
       "      <th>1</th>\n",
       "      <td>Ugw-QHyZVdau0yayj6Z4AaABAg</td>\n",
       "      <td>really url1</td>\n",
       "      <td>0</td>\n",
       "      <td>PP</td>\n",
       "    </tr>\n",
       "    <tr>\n",
       "      <th>2</th>\n",
       "      <td>Ugw2spD590YtT2_Fmyp4AaABAg</td>\n",
       "      <td>just listening to his ugly voice makes me sick</td>\n",
       "      <td>2</td>\n",
       "      <td>PP</td>\n",
       "    </tr>\n",
       "    <tr>\n",
       "      <th>3</th>\n",
       "      <td>Ugw2spD590YtT2_Fmyp4AaABAg.97AZZVDjMPW97ApiiCLgXj</td>\n",
       "      <td>-*-*-*- you can vote than for him....url1 matt...</td>\n",
       "      <td>0</td>\n",
       "      <td>PP</td>\n",
       "    </tr>\n",
       "    <tr>\n",
       "      <th>4</th>\n",
       "      <td>Ugw2spD590YtT2_Fmyp4AaABAg.97AZZVDjMPW97B0c59Ba6O</td>\n",
       "      <td>-*-*-*- username1’s journey i hope you see als...</td>\n",
       "      <td>2</td>\n",
       "      <td>PP</td>\n",
       "    </tr>\n",
       "  </tbody>\n",
       "</table>\n",
       "</div>"
      ],
      "text/plain": [
       "                                          Comment_ID  \\\n",
       "0                         Ugw-aRHvR13qVkeSjGx4AaABAg   \n",
       "1                         Ugw-QHyZVdau0yayj6Z4AaABAg   \n",
       "2                         Ugw2spD590YtT2_Fmyp4AaABAg   \n",
       "3  Ugw2spD590YtT2_Fmyp4AaABAg.97AZZVDjMPW97ApiiCLgXj   \n",
       "4  Ugw2spD590YtT2_Fmyp4AaABAg.97AZZVDjMPW97B0c59Ba6O   \n",
       "\n",
       "                                                Text  Type Annotator  \n",
       "0  corona virus chaple hill nc lab 2015........ g...     0        PP  \n",
       "1                                        really url1     0        PP  \n",
       "2     just listening to his ugly voice makes me sick     2        PP  \n",
       "3  -*-*-*- you can vote than for him....url1 matt...     0        PP  \n",
       "4  -*-*-*- username1’s journey i hope you see als...     2        PP  "
      ]
     },
     "execution_count": 15,
     "metadata": {},
     "output_type": "execute_result"
    }
   ],
   "source": [
    "df_train_en.head()"
   ]
  },
  {
   "cell_type": "code",
   "execution_count": 14,
   "metadata": {},
   "outputs": [],
   "source": [
    "#drop columns \"Target\", \"Video_ID\"\n",
    "\n",
    "df_train_en = df_train_en.drop(columns=['Target', 'Video_ID'])"
   ]
  },
  {
   "cell_type": "code",
   "execution_count": 3,
   "metadata": {},
   "outputs": [],
   "source": [
    "df_test_en = df_test_en.drop(columns=['Target', 'Video_ID'])"
   ]
  },
  {
   "cell_type": "code",
   "execution_count": 3,
   "metadata": {},
   "outputs": [],
   "source": [
    "df_train_it = pd.read_csv('/Users/patriciagrigor/Desktop/MASTER/CEU_hate/multilingual-hate-speech/IT_train_clean.csv')"
   ]
  },
  {
   "cell_type": "code",
   "execution_count": 4,
   "metadata": {},
   "outputs": [],
   "source": [
    "df_test_it = pd.read_csv('/Users/patriciagrigor/Desktop/MASTER/CEU_hate/multilingual-hate-speech/final_models/IT_test.csv')"
   ]
  },
  {
   "cell_type": "code",
   "execution_count": 25,
   "metadata": {},
   "outputs": [
    {
     "data": {
      "text/html": [
       "<div>\n",
       "<style scoped>\n",
       "    .dataframe tbody tr th:only-of-type {\n",
       "        vertical-align: middle;\n",
       "    }\n",
       "\n",
       "    .dataframe tbody tr th {\n",
       "        vertical-align: top;\n",
       "    }\n",
       "\n",
       "    .dataframe thead th {\n",
       "        text-align: right;\n",
       "    }\n",
       "</style>\n",
       "<table border=\"1\" class=\"dataframe\">\n",
       "  <thead>\n",
       "    <tr style=\"text-align: right;\">\n",
       "      <th></th>\n",
       "      <th>Comment_ID</th>\n",
       "      <th>Text</th>\n",
       "      <th>Type</th>\n",
       "      <th>Annotator</th>\n",
       "    </tr>\n",
       "  </thead>\n",
       "  <tbody>\n",
       "    <tr>\n",
       "      <th>0</th>\n",
       "      <td>Ugw_8YcY4vl2hYO3XZJ4AaABAg</td>\n",
       "      <td>il solito vizio,o moda, della sinistra di anda...</td>\n",
       "      <td>2</td>\n",
       "      <td>IMSyPP_IT_YouTube_a0.csv</td>\n",
       "    </tr>\n",
       "    <tr>\n",
       "      <th>1</th>\n",
       "      <td>Ugw_8YcY4vl2hYO3XZJ4AaABAg.96hs8xBdS8o96htN_xN_Qd</td>\n",
       "      <td>-*-*-*- giuseppe se questa notizia è vera sare...</td>\n",
       "      <td>2</td>\n",
       "      <td>IMSyPP_IT_YouTube_a0.csv</td>\n",
       "    </tr>\n",
       "    <tr>\n",
       "      <th>2</th>\n",
       "      <td>Ugw_8YcY4vl2hYO3XZJ4AaABAg.96hs8xBdS8o96hvHMIEBP5</td>\n",
       "      <td>-*-*-*- username1 cammarata ci sarebbe da fare...</td>\n",
       "      <td>2</td>\n",
       "      <td>IMSyPP_IT_YouTube_a0.csv</td>\n",
       "    </tr>\n",
       "    <tr>\n",
       "      <th>3</th>\n",
       "      <td>Ugw_MSO29v5h9xcgVoB4AaABAg</td>\n",
       "      <td>siamo alla follia</td>\n",
       "      <td>2</td>\n",
       "      <td>IMSyPP_IT_YouTube_a0.csv</td>\n",
       "    </tr>\n",
       "    <tr>\n",
       "      <th>4</th>\n",
       "      <td>Ugw_ZltzXANNSm669Ol4AaABAg</td>\n",
       "      <td>ma stiamo scherzandooooo.    questi sono pazzi...</td>\n",
       "      <td>2</td>\n",
       "      <td>IMSyPP_IT_YouTube_a0.csv</td>\n",
       "    </tr>\n",
       "  </tbody>\n",
       "</table>\n",
       "</div>"
      ],
      "text/plain": [
       "                                          Comment_ID  \\\n",
       "0                         Ugw_8YcY4vl2hYO3XZJ4AaABAg   \n",
       "1  Ugw_8YcY4vl2hYO3XZJ4AaABAg.96hs8xBdS8o96htN_xN_Qd   \n",
       "2  Ugw_8YcY4vl2hYO3XZJ4AaABAg.96hs8xBdS8o96hvHMIEBP5   \n",
       "3                         Ugw_MSO29v5h9xcgVoB4AaABAg   \n",
       "4                         Ugw_ZltzXANNSm669Ol4AaABAg   \n",
       "\n",
       "                                                Text  Type  \\\n",
       "0  il solito vizio,o moda, della sinistra di anda...     2   \n",
       "1  -*-*-*- giuseppe se questa notizia è vera sare...     2   \n",
       "2  -*-*-*- username1 cammarata ci sarebbe da fare...     2   \n",
       "3                                  siamo alla follia     2   \n",
       "4  ma stiamo scherzandooooo.    questi sono pazzi...     2   \n",
       "\n",
       "                  Annotator  \n",
       "0  IMSyPP_IT_YouTube_a0.csv  \n",
       "1  IMSyPP_IT_YouTube_a0.csv  \n",
       "2  IMSyPP_IT_YouTube_a0.csv  \n",
       "3  IMSyPP_IT_YouTube_a0.csv  \n",
       "4  IMSyPP_IT_YouTube_a0.csv  "
      ]
     },
     "execution_count": 25,
     "metadata": {},
     "output_type": "execute_result"
    }
   ],
   "source": [
    "df_train_it.head()"
   ]
  },
  {
   "cell_type": "code",
   "execution_count": 16,
   "metadata": {},
   "outputs": [],
   "source": [
    "df_train_it = df_train_it.drop(columns=['ID_Video', 'ID_Commento.1', 'Nome_Utente','Target','Tono positivo', 'Lingua/contesto'])"
   ]
  },
  {
   "cell_type": "code",
   "execution_count": 5,
   "metadata": {},
   "outputs": [],
   "source": [
    "df_test_it = df_test_it.drop(columns=['ID_Video', 'ID_Commento.1', 'Nome_Utente','Target','Tono positivo', 'Lingua/contesto'])"
   ]
  },
  {
   "cell_type": "code",
   "execution_count": 24,
   "metadata": {},
   "outputs": [],
   "source": [
    "#rename columns by using the same names as in the English dataset\n",
    "\n",
    "df_train_it = df_train_it.rename(columns={\"ID_Commento\": \"Comment_ID\", \"Testo\": \"Text\", \"Tipo\": \"Type\"})"
   ]
  },
  {
   "cell_type": "code",
   "execution_count": 6,
   "metadata": {},
   "outputs": [],
   "source": [
    "df_test_it = df_test_it.rename(columns={\"ID_Commento\": \"Comment_ID\", \"Testo\": \"Text\", \"Tipo\": \"Type\"})"
   ]
  },
  {
   "cell_type": "code",
   "execution_count": 6,
   "metadata": {},
   "outputs": [],
   "source": [
    "df_train_slo = pd.read_csv('/Users/patriciagrigor/Desktop/MASTER/CEU_hate/multilingual-hate-speech/SLO_train_clean.csv')"
   ]
  },
  {
   "cell_type": "code",
   "execution_count": 7,
   "metadata": {},
   "outputs": [],
   "source": [
    "df_test_slo = pd.read_csv('/Users/patriciagrigor/Desktop/MASTER/CEU_hate/multilingual-hate-speech/final_models/SLO_test.csv')"
   ]
  },
  {
   "cell_type": "code",
   "execution_count": 11,
   "metadata": {},
   "outputs": [
    {
     "data": {
      "text/html": [
       "<div>\n",
       "<style scoped>\n",
       "    .dataframe tbody tr th:only-of-type {\n",
       "        vertical-align: middle;\n",
       "    }\n",
       "\n",
       "    .dataframe tbody tr th {\n",
       "        vertical-align: top;\n",
       "    }\n",
       "\n",
       "    .dataframe thead th {\n",
       "        text-align: right;\n",
       "    }\n",
       "</style>\n",
       "<table border=\"1\" class=\"dataframe\">\n",
       "  <thead>\n",
       "    <tr style=\"text-align: right;\">\n",
       "      <th></th>\n",
       "      <th>ID</th>\n",
       "      <th>besedilo</th>\n",
       "      <th>vrsta</th>\n",
       "      <th>Annotator</th>\n",
       "    </tr>\n",
       "  </thead>\n",
       "  <tbody>\n",
       "    <tr>\n",
       "      <th>0</th>\n",
       "      <td>1285847928138014720</td>\n",
       "      <td>username1 par dni nazaj mi je nekdo razlagal, ...</td>\n",
       "      <td>0</td>\n",
       "      <td>IMSyPP anotacije round2 a0 (AS).csv</td>\n",
       "    </tr>\n",
       "    <tr>\n",
       "      <th>1</th>\n",
       "      <td>1236543485081198593</td>\n",
       "      <td>username2 username3 username1 točno to pišem t...</td>\n",
       "      <td>0</td>\n",
       "      <td>IMSyPP anotacije round2 a0 (AS).csv</td>\n",
       "    </tr>\n",
       "    <tr>\n",
       "      <th>2</th>\n",
       "      <td>1277272167365910530</td>\n",
       "      <td>username1 50 eur na mesec za širjenje propagan...</td>\n",
       "      <td>0</td>\n",
       "      <td>IMSyPP anotacije round2 a0 (AS).csv</td>\n",
       "    </tr>\n",
       "    <tr>\n",
       "      <th>3</th>\n",
       "      <td>1273597090384547840</td>\n",
       "      <td>username1 username2 ko bi le \"mamice opremljaj...</td>\n",
       "      <td>0</td>\n",
       "      <td>IMSyPP anotacije round2 a0 (AS).csv</td>\n",
       "    </tr>\n",
       "    <tr>\n",
       "      <th>4</th>\n",
       "      <td>1255866280504168448</td>\n",
       "      <td>username1 je obsojen na zanikanje vsega kar je...</td>\n",
       "      <td>2</td>\n",
       "      <td>IMSyPP anotacije round2 a0 (AS).csv</td>\n",
       "    </tr>\n",
       "  </tbody>\n",
       "</table>\n",
       "</div>"
      ],
      "text/plain": [
       "                    ID                                           besedilo  \\\n",
       "0  1285847928138014720  username1 par dni nazaj mi je nekdo razlagal, ...   \n",
       "1  1236543485081198593  username2 username3 username1 točno to pišem t...   \n",
       "2  1277272167365910530  username1 50 eur na mesec za širjenje propagan...   \n",
       "3  1273597090384547840  username1 username2 ko bi le \"mamice opremljaj...   \n",
       "4  1255866280504168448  username1 je obsojen na zanikanje vsega kar je...   \n",
       "\n",
       "   vrsta                            Annotator  \n",
       "0      0  IMSyPP anotacije round2 a0 (AS).csv  \n",
       "1      0  IMSyPP anotacije round2 a0 (AS).csv  \n",
       "2      0  IMSyPP anotacije round2 a0 (AS).csv  \n",
       "3      0  IMSyPP anotacije round2 a0 (AS).csv  \n",
       "4      2  IMSyPP anotacije round2 a0 (AS).csv  "
      ]
     },
     "execution_count": 11,
     "metadata": {},
     "output_type": "execute_result"
    }
   ],
   "source": [
    "df_test_slo.head()"
   ]
  },
  {
   "cell_type": "code",
   "execution_count": 18,
   "metadata": {},
   "outputs": [],
   "source": [
    "df_train_slo = df_train_slo.drop(columns=['ID.1', 'uporabnik', 'tarča','jezik/kontekst'])"
   ]
  },
  {
   "cell_type": "code",
   "execution_count": 10,
   "metadata": {},
   "outputs": [],
   "source": [
    "df_test_slo = df_test_slo.drop(columns=['uporabnik', 'tarča','jezik/kontekst'])"
   ]
  },
  {
   "cell_type": "code",
   "execution_count": 26,
   "metadata": {},
   "outputs": [],
   "source": [
    "#rename columns by using the same names as in the English dataset\n",
    "\n",
    "df_train_slo = df_train_slo.rename(columns={\"ID\": \"Comment_ID\", \"besedilo\": \"Text\", \"vrsta\": \"Type\"})"
   ]
  },
  {
   "cell_type": "code",
   "execution_count": 12,
   "metadata": {},
   "outputs": [],
   "source": [
    "\n",
    "df_test_slo = df_test_slo.rename(columns={\"ID\": \"Comment_ID\", \"besedilo\": \"Text\", \"vrsta\": \"Type\"})"
   ]
  },
  {
   "cell_type": "code",
   "execution_count": 28,
   "metadata": {},
   "outputs": [],
   "source": [
    "#merge the three dataframes into a new dataframe\n",
    "\n",
    "df_multi = pd.concat([df_train_en, df_train_it, df_train_slo])"
   ]
  },
  {
   "cell_type": "code",
   "execution_count": 13,
   "metadata": {},
   "outputs": [],
   "source": [
    "df_multi_test = pd.concat([df_test_en, df_test_it, df_test_slo])"
   ]
  },
  {
   "cell_type": "code",
   "execution_count": 30,
   "metadata": {},
   "outputs": [],
   "source": [
    "#shuffle the instances\n",
    "\n",
    "df_multi = df_multi.sample(frac=1).reset_index(drop=True)"
   ]
  },
  {
   "cell_type": "code",
   "execution_count": 14,
   "metadata": {},
   "outputs": [],
   "source": [
    "df_multi_test = df_multi_test.sample(frac=1).reset_index(drop=True)"
   ]
  },
  {
   "cell_type": "code",
   "execution_count": 15,
   "metadata": {},
   "outputs": [
    {
     "data": {
      "text/html": [
       "<div>\n",
       "<style scoped>\n",
       "    .dataframe tbody tr th:only-of-type {\n",
       "        vertical-align: middle;\n",
       "    }\n",
       "\n",
       "    .dataframe tbody tr th {\n",
       "        vertical-align: top;\n",
       "    }\n",
       "\n",
       "    .dataframe thead th {\n",
       "        text-align: right;\n",
       "    }\n",
       "</style>\n",
       "<table border=\"1\" class=\"dataframe\">\n",
       "  <thead>\n",
       "    <tr style=\"text-align: right;\">\n",
       "      <th></th>\n",
       "      <th>Comment_ID</th>\n",
       "      <th>Text</th>\n",
       "      <th>Type</th>\n",
       "      <th>Annotator</th>\n",
       "    </tr>\n",
       "  </thead>\n",
       "  <tbody>\n",
       "    <tr>\n",
       "      <th>0</th>\n",
       "      <td>1245963391996497920</td>\n",
       "      <td>username2 username3 username1 username4 bravo ...</td>\n",
       "      <td>0</td>\n",
       "      <td>IMSyPP anotacije round2 a6 (NC).csv</td>\n",
       "    </tr>\n",
       "    <tr>\n",
       "      <th>1</th>\n",
       "      <td>1287638878300639235</td>\n",
       "      <td>📢do pol milijona evrov subvencije je mogoče do...</td>\n",
       "      <td>0</td>\n",
       "      <td>IMSyPP anotacije round2 a7 (NS).csv</td>\n",
       "    </tr>\n",
       "    <tr>\n",
       "      <th>2</th>\n",
       "      <td>UgyE4REV6oF-Uo0_b_N4AaABAg</td>\n",
       "      <td>non sono un simpatizzante di conte, ma qua ho ...</td>\n",
       "      <td>0</td>\n",
       "      <td>IMSyPP_IT_YouTube_ev_a5.csv</td>\n",
       "    </tr>\n",
       "    <tr>\n",
       "      <th>3</th>\n",
       "      <td>1226174103058604033</td>\n",
       "      <td>izjemno hiter ježek sonic, ki je po nesrečnem ...</td>\n",
       "      <td>0</td>\n",
       "      <td>IMSyPP anotacije round2 a8 (PP).csv</td>\n",
       "    </tr>\n",
       "    <tr>\n",
       "      <th>4</th>\n",
       "      <td>UgzOvVVL-IxDn3K3T8J4AaABAg</td>\n",
       "      <td>i’m kinda surprise that other then 2 new decks...</td>\n",
       "      <td>0</td>\n",
       "      <td>MG</td>\n",
       "    </tr>\n",
       "  </tbody>\n",
       "</table>\n",
       "</div>"
      ],
      "text/plain": [
       "                   Comment_ID  \\\n",
       "0         1245963391996497920   \n",
       "1         1287638878300639235   \n",
       "2  UgyE4REV6oF-Uo0_b_N4AaABAg   \n",
       "3         1226174103058604033   \n",
       "4  UgzOvVVL-IxDn3K3T8J4AaABAg   \n",
       "\n",
       "                                                Text  Type  \\\n",
       "0  username2 username3 username1 username4 bravo ...     0   \n",
       "1  📢do pol milijona evrov subvencije je mogoče do...     0   \n",
       "2  non sono un simpatizzante di conte, ma qua ho ...     0   \n",
       "3  izjemno hiter ježek sonic, ki je po nesrečnem ...     0   \n",
       "4  i’m kinda surprise that other then 2 new decks...     0   \n",
       "\n",
       "                             Annotator  \n",
       "0  IMSyPP anotacije round2 a6 (NC).csv  \n",
       "1  IMSyPP anotacije round2 a7 (NS).csv  \n",
       "2          IMSyPP_IT_YouTube_ev_a5.csv  \n",
       "3  IMSyPP anotacije round2 a8 (PP).csv  \n",
       "4                                   MG  "
      ]
     },
     "execution_count": 15,
     "metadata": {},
     "output_type": "execute_result"
    }
   ],
   "source": [
    "df_multi_test.head()"
   ]
  },
  {
   "cell_type": "code",
   "execution_count": 32,
   "metadata": {},
   "outputs": [],
   "source": [
    "#save the new dataframe as a csv file\n",
    "\n",
    "df_multi.to_csv('/Users/patriciagrigor/Desktop/MASTER/CEU_hate/multilingual-hate-speech/data_variations/multi/multi_train_duplicate_all.csv', index=False)"
   ]
  },
  {
   "cell_type": "markdown",
   "metadata": {},
   "source": [
    "**Creating Duplicate Disagreement** (removing double instances where annotators agree)"
   ]
  },
  {
   "cell_type": "code",
   "execution_count": 33,
   "metadata": {},
   "outputs": [],
   "source": [
    "df_multi_dd = df_multi.drop_duplicates(subset=['Comment_ID', 'Type'], keep=\"first\")"
   ]
  },
  {
   "cell_type": "code",
   "execution_count": 34,
   "metadata": {},
   "outputs": [],
   "source": [
    "df_multi_dd.to_csv('/Users/patriciagrigor/Desktop/MASTER/CEU_hate/multilingual-hate-speech/data_variations/multi/multi_dd.csv', index=False)"
   ]
  },
  {
   "cell_type": "markdown",
   "metadata": {},
   "source": [
    "**Creating Remove Disagreement** (only keeping instances where annotators agree)"
   ]
  },
  {
   "cell_type": "code",
   "execution_count": 35,
   "metadata": {},
   "outputs": [],
   "source": [
    "df_multi_rd = df_multi_dd.drop_duplicates(subset=['Comment_ID'], keep=False)"
   ]
  },
  {
   "cell_type": "code",
   "execution_count": 36,
   "metadata": {},
   "outputs": [],
   "source": [
    "df_multi_rd.to_csv('/Users/patriciagrigor/Desktop/MASTER/CEU_hate/multilingual-hate-speech/data_variations/multi/multi_rd.csv', index=False)"
   ]
  }
 ],
 "metadata": {
  "kernelspec": {
   "display_name": "hate",
   "language": "python",
   "name": "python3"
  },
  "language_info": {
   "codemirror_mode": {
    "name": "ipython",
    "version": 3
   },
   "file_extension": ".py",
   "mimetype": "text/x-python",
   "name": "python",
   "nbconvert_exporter": "python",
   "pygments_lexer": "ipython3",
   "version": "3.11.7"
  },
  "orig_nbformat": 4
 },
 "nbformat": 4,
 "nbformat_minor": 2
}
